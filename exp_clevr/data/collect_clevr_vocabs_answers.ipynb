{
 "cells": [
  {
   "cell_type": "code",
   "execution_count": 1,
   "metadata": {
    "collapsed": true
   },
   "outputs": [],
   "source": [
    "import numpy as np\n",
    "import json\n",
    "import re\n",
    "import matplotlib.pyplot as plt\n",
    "%matplotlib inline"
   ]
  },
  {
   "cell_type": "code",
   "execution_count": 2,
   "metadata": {
    "collapsed": true
   },
   "outputs": [],
   "source": [
    "question_file = '/home/tkornuta/tensorflow/data/clevr_no_images/questions/CLEVR_train_questions.json'\n",
    "vocab_file = './vocabulary_clevr.txt'\n",
    "answer_file = './answers_clevr.txt'"
   ]
  },
  {
   "cell_type": "code",
   "execution_count": 3,
   "metadata": {},
   "outputs": [],
   "source": [
    "with open(question_file) as f:\n",
    "    questions = json.load(f)['questions']"
   ]
  },
  {
   "cell_type": "code",
   "execution_count": 4,
   "metadata": {},
   "outputs": [],
   "source": [
    "vocab_set = set()\n",
    "answer_set = set()\n",
    "SENTENCE_SPLIT_REGEX = re.compile(r'(\\W+)')\n",
    "question_length = [None]*len(questions)\n",
    "function_length = [None]*len(questions)\n",
    "for n_q, q in enumerate(questions):\n",
    "    answer_set.add(q['answer'])\n",
    "    words = SENTENCE_SPLIT_REGEX.split(q['question'].lower())\n",
    "    words = [w.strip() for w in words if len(w.strip()) > 0]\n",
    "    vocab_set.update(words)\n",
    "    question_length[n_q] = len(words)\n",
    "    function_length[n_q] = len(q['program'])"
   ]
  },
  {
   "cell_type": "code",
   "execution_count": 5,
   "metadata": {},
   "outputs": [
    {
     "name": "stdout",
     "output_type": "stream",
     "text": [
      "vocabulary list:\n",
      "[';', '?', 'a', 'an', 'and', 'another', 'any', 'anything', 'are', 'as', 'ball', 'balls', 'behind', 'big', 'block', 'blocks', 'blue', 'both', 'brown', 'color', 'cube', 'cubes', 'cyan', 'cylinder', 'cylinders', 'do', 'does', 'either', 'else', 'equal', 'fewer', 'front', 'gray', 'greater', 'green', 'has', 'have', 'how', 'in', 'is', 'it', 'its', 'large', 'left', 'less', 'made', 'many', 'material', 'matte', 'metal', 'metallic', 'more', 'number', 'object', 'objects', 'of', 'on', 'or', 'other', 'purple', 'red', 'right', 'rubber', 'same', 'shape', 'shiny', 'side', 'size', 'small', 'sphere', 'spheres', 'than', 'that', 'the', 'there', 'thing', 'things', 'tiny', 'to', 'visible', 'what', 'yellow']\n",
      "\n",
      "answer list:\n",
      "['0', '1', '10', '2', '3', '4', '5', '6', '7', '8', '9', 'blue', 'brown', 'cube', 'cyan', 'cylinder', 'gray', 'green', 'large', 'metal', 'no', 'purple', 'red', 'rubber', 'small', 'sphere', 'yellow', 'yes']\n"
     ]
    }
   ],
   "source": [
    "vocab_list = list(vocab_set)\n",
    "vocab_list.sort()\n",
    "answer_list = list(answer_set)\n",
    "answer_list.sort()\n",
    "\n",
    "print('vocabulary list:')\n",
    "print(vocab_list)\n",
    "print('\\nanswer list:')\n",
    "print(answer_list)\n",
    "\n",
    "with open(vocab_file, 'w') as f:\n",
    "    f.writelines([w+'\\n' for w in vocab_list])\n",
    "with open(answer_file, 'w') as f:\n",
    "    f.writelines([w+'\\n' for w in answer_list])"
   ]
  },
  {
   "cell_type": "code",
   "execution_count": 6,
   "metadata": {},
   "outputs": [
    {
     "name": "stdout",
     "output_type": "stream",
     "text": [
      "maximum question length: 45\n"
     ]
    },
    {
     "data": {
      "image/png": "[encoded data removed]",
      "text/plain": [
       "<matplotlib.figure.Figure at 0x7f76cc0d2320>"
      ]
     },
     "metadata": {},
     "output_type": "display_data"
    }
   ],
   "source": [
    "_ = plt.hist(question_length, bins=20)\n",
    "print('maximum question length:', np.max(question_length))"
   ]
  },
  {
   "cell_type": "code",
   "execution_count": 7,
   "metadata": {},
   "outputs": [
    {
     "name": "stdout",
     "output_type": "stream",
     "text": [
      "maximum function length: 25\n"
     ]
    },
    {
     "data": {
      "image/png": "[encoded data removed]",
      "text/plain": [
       "<matplotlib.figure.Figure at 0x7f75997d7940>"
      ]
     },
     "metadata": {},
     "output_type": "display_data"
    }
   ],
   "source": [
    "_ = plt.hist(function_length, bins=20)\n",
    "print('maximum function length:', np.max(function_length))"
   ]
  }
 ],
 "metadata": {
  "anaconda-cloud": {},
  "kernelspec": {
   "display_name": "Python 3",
   "language": "python",
   "name": "python3"
  },
  "language_info": {
   "codemirror_mode": {
    "name": "ipython",
    "version": 3
   },
   "file_extension": ".py",
   "mimetype": "text/x-python",
   "name": "python",
   "nbconvert_exporter": "python",
   "pygments_lexer": "ipython3",
   "version": "3.4.3"
  }
 },
 "nbformat": 4,
 "nbformat_minor": 1
}
